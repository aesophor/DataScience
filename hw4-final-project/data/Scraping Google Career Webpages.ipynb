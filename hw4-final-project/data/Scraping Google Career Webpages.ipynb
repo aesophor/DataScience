{
 "cells": [
  {
   "cell_type": "markdown",
   "metadata": {},
   "source": [
    "# Scraping Google Career Webpages"
   ]
  },
  {
   "cell_type": "markdown",
   "metadata": {},
   "source": [
    "## Prerequisites\n",
    "* selenium\n",
    "* one of the following (depending on which browser you're using)\n",
    "  * firefox: [geckodriver](https://github.com/mozilla/geckodriver/releases/)\n",
    "  * chrome/chromium: [chromedriver](http://chromedriver.chromium.org/)\n",
    "  \n",
    "## Useful Tutorials\n",
    "* https://huilansame.github.io/huilansame.github.io/archivers/sleep-implicitlywait-wait\n",
    "* https://wangxin1248.github.io/python/2018/09/python3-spider-8.html"
   ]
  },
  {
   "cell_type": "markdown",
   "metadata": {},
   "source": [
    "## 1. Scraping a single page\n",
    "Use `scrape_job()` provided below on single job with its url.\n",
    "\n",
    "Example target: https://careers.google.com/jobs/results/6163626811654144-front-end-software-engineer/?company=Google&company=YouTube&employment_type=FULL_TIME&hl=en_US&jlo=en_US&q=software&sort_by=relevance"
   ]
  },
  {
   "cell_type": "code",
   "execution_count": 1,
   "metadata": {},
   "outputs": [],
   "source": [
    "from selenium.webdriver import Firefox\n",
    "from selenium.webdriver.common.by import By\n",
    "from selenium.webdriver.common.keys import Keys\n",
    "from selenium.webdriver.firefox.options import Options\n",
    "from selenium.webdriver.support.wait import WebDriverWait\n",
    "from selenium.webdriver.support import expected_conditions as ec\n",
    "from selenium.common.exceptions import TimeoutException\n",
    "import selenium.webdriver.support.ui as ui\n",
    "\n",
    "import pandas\n",
    "import time\n",
    "import csv"
   ]
  },
  {
   "cell_type": "code",
   "execution_count": 2,
   "metadata": {},
   "outputs": [],
   "source": [
    "def _extract(class_name: str):\n",
    "    \"\"\" Extracts the specified element by class name \n",
    "    :return: readable text in the element.\n",
    "    \"\"\"\n",
    "    return driver.find_element_by_class_name(class_name).text"
   ]
  },
  {
   "cell_type": "code",
   "execution_count": 3,
   "metadata": {},
   "outputs": [],
   "source": [
    "def scrape_job(url: str, wait: WebDriverWait, retry=3):\n",
    "    \"\"\" Scrape the job info from the specified Url. A broswer driver MUST be initialized beforehand.\n",
    "    :param url: the url of a detailed google job page.\n",
    "    :param wait: contains timeout.\n",
    "    :param retry: times to retry.\n",
    "    :return: a dict wrapping all info.\n",
    "    \"\"\"\n",
    "    for i in range(0, retry):\n",
    "        driver.get(url)\n",
    "    \n",
    "        # Wait until all required elements are generated.\n",
    "        try:\n",
    "            wait.until(ec.presence_of_element_located((By.CLASS_NAME, 'gc-job-detail__header')))\n",
    "            wait.until(ec.presence_of_element_located((By.CLASS_NAME, 'gc-job-detail__tags')))\n",
    "            wait.until(ec.presence_of_element_located((By.CLASS_NAME, 'gc-job-detail__section--qualifications')))\n",
    "            wait.until(ec.presence_of_element_located((By.CLASS_NAME, 'gc-job-detail__section--responsibilities')))\n",
    "            \n",
    "            # Extract job information.\n",
    "            title = driver.find_element_by_class_name('gc-job-detail__header') \\\n",
    "                            .find_element_by_class_name('gc-heading--beta').text\n",
    "            location = driver.find_element_by_class_name('gc-job-detail__tags') \\\n",
    "                            .find_element_by_class_name('gc-job-tags__location').text\n",
    "            qualifications = _extract('gc-job-detail__section--qualifications').split('\\n\\n')\n",
    "            minimum_qual = qualifications[0].replace('Minimum qualifications:\\n', '').replace('Qualifications\\n', '', 1)\n",
    "            preferred_qual = qualifications[1].replace('Preferred qualifications:\\n', '') if len(qualifications) > 1 else ''\n",
    "            responsibilities = _extract('gc-job-detail__section--responsibilities').replace('Responsibilities\\n', '', 1)\n",
    "            \n",
    "            return {\n",
    "                'title': title,\n",
    "                'loc': location,\n",
    "                'minimum_qual': minimum_qual,\n",
    "                'preferred_qual': preferred_qual,\n",
    "                'resp': responsibilities\n",
    "            }\n",
    "        except TimeoutException:\n",
    "            return None\n",
    "        except Exception:\n",
    "            continue\n",
    "    \n",
    "    # If all retries have failed, return None.\n",
    "    return None"
   ]
  },
  {
   "cell_type": "code",
   "execution_count": 4,
   "metadata": {},
   "outputs": [
    {
     "name": "stdout",
     "output_type": "stream",
     "text": [
      "{'title': 'Software Engineer', 'loc': 'San Francisco, CA, USA', 'minimum_qual': 'BS degree in Computer Science, similar technical field of study or equivalent practical experience.\\nSoftware development experience in one or more general purpose programming languages.\\nExperience working with two or more from the following: web application development, Unix/Linux environments, mobile application development, distributed and parallel systems, machine learning, information retrieval, natural language processing, networking, developing large software systems, and/or security software development.\\nWorking proficiency and communication skills in verbal and written English.', 'preferred_qual': 'Master’s, PhD degree, further education or experience in engineering, computer science or other technical related field.\\nExperience with one or more general purpose programming languages including but not limited to: Java, C/C++, C#, Objective C, Python, JavaScript, or Go.\\nExperience developing accessible technologies.\\nInterest and ability to learn other coding languages as needed.', 'resp': 'Design, develop, test, deploy, maintain and improve software.\\nManage individual project priorities, deadlines and deliverables.'}\n"
     ]
    }
   ],
   "source": [
    "options = Options()\n",
    "options.add_argument('-headless')\n",
    "driver = Firefox(executable_path='/opt/firefox/geckodriver', options=options)\n",
    "\n",
    "wait = WebDriverWait(driver, timeout=10)\n",
    "job = scrape_job(r'https://careers.google.com/jobs/results/82652223323939526-software-engineer/?company=Google&company=Google%20Fiber&company=YouTube&employment_type=FULL_TIME&hl=en_US&jlo=en_US&q=software%20engineer&sort_by=relevance', wait)\n",
    "\n",
    "if job is not None:\n",
    "    print(job)\n",
    "\n",
    "driver.quit()"
   ]
  },
  {
   "cell_type": "markdown",
   "metadata": {},
   "source": [
    "---"
   ]
  },
  {
   "cell_type": "markdown",
   "metadata": {},
   "source": [
    "## 2. Search & Scrape All Relevant Jobs\n",
    "Use `scrape_jobs(keyword, wait)` provided below on all jobs relevant to a specific keyword.\n",
    "\n",
    "Example: all jobs related to the keyword `software`."
   ]
  },
  {
   "cell_type": "code",
   "execution_count": 5,
   "metadata": {},
   "outputs": [],
   "source": [
    "def _collect_urls(wait: WebDriverWait, urls: list, page_count, url_count):\n",
    "    \"\"\" Collect all urls we have to scrape \"\"\"\n",
    "    for i in range(0, page_count):\n",
    "        try:\n",
    "            time.sleep(2) # Sleep for 2 secs for the page to load or it will scream like a bitch\n",
    "            \n",
    "            wait.until(ec.presence_of_element_located((By.ID, 'search-results')))\n",
    "            wait.until(ec.presence_of_element_located((By.CLASS_NAME, \"gc-card\")))\n",
    "            result_pane = driver.find_element_by_id('search-results')\n",
    "            cards = result_pane.find_elements_by_class_name(\"gc-card\")\n",
    "            \n",
    "            urls += [card.get_attribute('href') for card in cards]\n",
    "            print('\\rCollecting urls... {}/{}'.format(len(urls), url_count), end='')\n",
    "            \n",
    "            # If `next` cannot be found after `timeout` seconds, it will throw \n",
    "            # a TimeoutException, then we can break the loop.\n",
    "            wait.until(ec.presence_of_element_located((By.XPATH, \"//a[@data-gtm-ref='search-results-next-click']\")))\n",
    "            driver.find_element_by_xpath(\"//a[@data-gtm-ref='search-results-next-click']\").send_keys(Keys.RETURN)\n",
    "        except Exception as e:\n",
    "            print(e)\n",
    "            break\n",
    "    print()"
   ]
  },
  {
   "cell_type": "code",
   "execution_count": 6,
   "metadata": {},
   "outputs": [],
   "source": [
    "def scrape_jobs(keyword: str, wait: WebDriverWait, urls: list, start=1):\n",
    "    \"\"\" Scrape info of all jobs related to the specified keyword\n",
    "    :param keyword: google job search keyword.\n",
    "    :param wait: contains timeout.\n",
    "    :param urls: urls cache.\n",
    "    :param start: the number of the record to start scraping.\n",
    "    \"\"\"\n",
    "    # Let start = 1713, starting_page = 86, starting_card_no = 13.\n",
    "    items_per_page = 20\n",
    "    starting_page = start // items_per_page + 1\n",
    "    starting_card_no = start - (starting_page - 1) * items_per_page\n",
    "    \n",
    "    # Open Google job search page.\n",
    "    driver.get(r'https://careers.google.com/jobs/results/?company=Google&company=YouTube&employment_type=FULL_TIME&hl=en_US&jlo=en_US&page={}&q={}&sort_by=relevance'.format(starting_page, keyword));\n",
    "    \n",
    "    # VERY DIRTY WORKAROUND :(\n",
    "    # There's a weird bug. I cannot get url count from any of the search result pages.\n",
    "    # However, I can get it from one of the job's detail page.\n",
    "    wait.until(ec.presence_of_element_located((By.ID, 'search-results')))\n",
    "    wait.until(ec.presence_of_element_located((By.CLASS_NAME, \"gc-card\")))\n",
    "    result_pane = driver.find_element_by_id('search-results')\n",
    "    cards = result_pane.find_elements_by_class_name(\"gc-card\")\n",
    "    driver.get(cards[0].get_attribute('href'))\n",
    "    \n",
    "    # Get `x` jobs matched and calculate how many pages we have to loop through.\n",
    "    url_count_class_name = 'gc-jobs-matched__count--active'\n",
    "    wait.until(ec.presence_of_element_located((By.CLASS_NAME, url_count_class_name)))\n",
    "    url_count = int(driver.find_element_by_class_name(url_count_class_name).text)\n",
    "    page_count = (url_count // items_per_page) + 1\n",
    "    driver.back()\n",
    "    \n",
    "    # Loop until there's no `next` hyperlink.\n",
    "    print('Collecting urls...', end='')\n",
    "    \n",
    "    if len(urls) != url_count:\n",
    "        urls.clear()\n",
    "        _collect_urls(wait, urls, page_count, url_count)\n",
    "    \n",
    "    with open('google_jobs.csv', 'w') as f:\n",
    "        w = csv.DictWriter(f, fieldnames = ['title', 'loc', 'minimum_qual', 'preferred_qual', 'resp'])\n",
    "        w.writeheader()\n",
    "        \n",
    "        for i in range(start - 1, len(urls)):\n",
    "            print('\\rProcessing ({}/{}): {}'.format(i, len(urls), urls[i]), end='')\n",
    "            job = scrape_job(urls[i], wait)\n",
    "            \n",
    "            if job is not None:\n",
    "                w.writerow(job)"
   ]
  },
  {
   "cell_type": "code",
   "execution_count": 9,
   "metadata": {},
   "outputs": [],
   "source": [
    "# We'll cache all urls we have to scrape later in this list.\n",
    "urls = []"
   ]
  },
  {
   "cell_type": "code",
   "execution_count": 10,
   "metadata": {
    "scrolled": false
   },
   "outputs": [
    {
     "name": "stdout",
     "output_type": "stream",
     "text": [
      "Collecting urls... 1246/1246Message: Element <a class=\"gc-link gc-link--on-grey gc-action-group__item gc-h-larger-tap-target router-link-active\" href=\"/jobs/results/?company=Google&company=YouTube&employment_type=FULL_TIME&hl=en_US&jlo=en_US&page=64&q=software&sort_by=relevance\"> is not reachable by keyboard\n",
      "\n",
      "\n",
      "Processing (767/1246): https://careers.google.com/jobs/results/122246049357013702-director-global-partner-programs-enablement-google-cloud/?company=Google&company=YouTube&employment_type=FULL_TIME&hl=en_US&jlo=en_US&page=39&q=software&sort_by=relevancey=relevanceanceeeeece"
     ]
    },
    {
     "ename": "TimeoutException",
     "evalue": "Message: Timeout loading page after 300000ms\n",
     "output_type": "error",
     "traceback": [
      "\u001b[0;31m---------------------------------------------------------------------------\u001b[0m",
      "\u001b[0;31mTimeoutException\u001b[0m                          Traceback (most recent call last)",
      "\u001b[0;32m<ipython-input-10-e68da249fb0f>\u001b[0m in \u001b[0;36m<module>\u001b[0;34m\u001b[0m\n\u001b[1;32m      4\u001b[0m \u001b[0;34m\u001b[0m\u001b[0m\n\u001b[1;32m      5\u001b[0m \u001b[0mwait\u001b[0m \u001b[0;34m=\u001b[0m \u001b[0mWebDriverWait\u001b[0m\u001b[0;34m(\u001b[0m\u001b[0mdriver\u001b[0m\u001b[0;34m,\u001b[0m \u001b[0mtimeout\u001b[0m\u001b[0;34m=\u001b[0m\u001b[0;36m10\u001b[0m\u001b[0;34m)\u001b[0m\u001b[0;34m\u001b[0m\u001b[0;34m\u001b[0m\u001b[0m\n\u001b[0;32m----> 6\u001b[0;31m \u001b[0mscrape_jobs\u001b[0m\u001b[0;34m(\u001b[0m\u001b[0;34m'software'\u001b[0m\u001b[0;34m,\u001b[0m \u001b[0mwait\u001b[0m\u001b[0;34m,\u001b[0m \u001b[0murls\u001b[0m\u001b[0;34m,\u001b[0m \u001b[0mstart\u001b[0m\u001b[0;34m=\u001b[0m\u001b[0;36m1\u001b[0m\u001b[0;34m)\u001b[0m\u001b[0;34m\u001b[0m\u001b[0;34m\u001b[0m\u001b[0m\n\u001b[0m\u001b[1;32m      7\u001b[0m \u001b[0mdriver\u001b[0m\u001b[0;34m.\u001b[0m\u001b[0mquit\u001b[0m\u001b[0;34m(\u001b[0m\u001b[0;34m)\u001b[0m\u001b[0;34m\u001b[0m\u001b[0;34m\u001b[0m\u001b[0m\n",
      "\u001b[0;32m<ipython-input-6-ee35a47ff153>\u001b[0m in \u001b[0;36mscrape_jobs\u001b[0;34m(keyword, wait, urls, start)\u001b[0m\n\u001b[1;32m     43\u001b[0m         \u001b[0;32mfor\u001b[0m \u001b[0mi\u001b[0m \u001b[0;32min\u001b[0m \u001b[0mrange\u001b[0m\u001b[0;34m(\u001b[0m\u001b[0mstart\u001b[0m \u001b[0;34m-\u001b[0m \u001b[0;36m1\u001b[0m\u001b[0;34m,\u001b[0m \u001b[0mlen\u001b[0m\u001b[0;34m(\u001b[0m\u001b[0murls\u001b[0m\u001b[0;34m)\u001b[0m\u001b[0;34m)\u001b[0m\u001b[0;34m:\u001b[0m\u001b[0;34m\u001b[0m\u001b[0;34m\u001b[0m\u001b[0m\n\u001b[1;32m     44\u001b[0m             \u001b[0mprint\u001b[0m\u001b[0;34m(\u001b[0m\u001b[0;34m'\\rProcessing ({}/{}): {}'\u001b[0m\u001b[0;34m.\u001b[0m\u001b[0mformat\u001b[0m\u001b[0;34m(\u001b[0m\u001b[0mi\u001b[0m\u001b[0;34m,\u001b[0m \u001b[0mlen\u001b[0m\u001b[0;34m(\u001b[0m\u001b[0murls\u001b[0m\u001b[0;34m)\u001b[0m\u001b[0;34m,\u001b[0m \u001b[0murls\u001b[0m\u001b[0;34m[\u001b[0m\u001b[0mi\u001b[0m\u001b[0;34m]\u001b[0m\u001b[0;34m)\u001b[0m\u001b[0;34m,\u001b[0m \u001b[0mend\u001b[0m\u001b[0;34m=\u001b[0m\u001b[0;34m''\u001b[0m\u001b[0;34m)\u001b[0m\u001b[0;34m\u001b[0m\u001b[0;34m\u001b[0m\u001b[0m\n\u001b[0;32m---> 45\u001b[0;31m             \u001b[0mjob\u001b[0m \u001b[0;34m=\u001b[0m \u001b[0mscrape_job\u001b[0m\u001b[0;34m(\u001b[0m\u001b[0murls\u001b[0m\u001b[0;34m[\u001b[0m\u001b[0mi\u001b[0m\u001b[0;34m]\u001b[0m\u001b[0;34m,\u001b[0m \u001b[0mwait\u001b[0m\u001b[0;34m)\u001b[0m\u001b[0;34m\u001b[0m\u001b[0;34m\u001b[0m\u001b[0m\n\u001b[0m\u001b[1;32m     46\u001b[0m \u001b[0;34m\u001b[0m\u001b[0m\n\u001b[1;32m     47\u001b[0m             \u001b[0;32mif\u001b[0m \u001b[0mjob\u001b[0m \u001b[0;32mis\u001b[0m \u001b[0;32mnot\u001b[0m \u001b[0;32mNone\u001b[0m\u001b[0;34m:\u001b[0m\u001b[0;34m\u001b[0m\u001b[0;34m\u001b[0m\u001b[0m\n",
      "\u001b[0;32m<ipython-input-3-01aa7af31b92>\u001b[0m in \u001b[0;36mscrape_job\u001b[0;34m(url, wait, retry)\u001b[0m\n\u001b[1;32m      7\u001b[0m     \"\"\"\n\u001b[1;32m      8\u001b[0m     \u001b[0;32mfor\u001b[0m \u001b[0mi\u001b[0m \u001b[0;32min\u001b[0m \u001b[0mrange\u001b[0m\u001b[0;34m(\u001b[0m\u001b[0;36m0\u001b[0m\u001b[0;34m,\u001b[0m \u001b[0mretry\u001b[0m\u001b[0;34m)\u001b[0m\u001b[0;34m:\u001b[0m\u001b[0;34m\u001b[0m\u001b[0;34m\u001b[0m\u001b[0m\n\u001b[0;32m----> 9\u001b[0;31m         \u001b[0mdriver\u001b[0m\u001b[0;34m.\u001b[0m\u001b[0mget\u001b[0m\u001b[0;34m(\u001b[0m\u001b[0murl\u001b[0m\u001b[0;34m)\u001b[0m\u001b[0;34m\u001b[0m\u001b[0;34m\u001b[0m\u001b[0m\n\u001b[0m\u001b[1;32m     10\u001b[0m \u001b[0;34m\u001b[0m\u001b[0m\n\u001b[1;32m     11\u001b[0m         \u001b[0;31m# Wait until all required elements are generated.\u001b[0m\u001b[0;34m\u001b[0m\u001b[0;34m\u001b[0m\u001b[0;34m\u001b[0m\u001b[0m\n",
      "\u001b[0;32m~/anaconda3/lib/python3.7/site-packages/selenium/webdriver/remote/webdriver.py\u001b[0m in \u001b[0;36mget\u001b[0;34m(self, url)\u001b[0m\n\u001b[1;32m    331\u001b[0m         \u001b[0mLoads\u001b[0m \u001b[0ma\u001b[0m \u001b[0mweb\u001b[0m \u001b[0mpage\u001b[0m \u001b[0;32min\u001b[0m \u001b[0mthe\u001b[0m \u001b[0mcurrent\u001b[0m \u001b[0mbrowser\u001b[0m \u001b[0msession\u001b[0m\u001b[0;34m.\u001b[0m\u001b[0;34m\u001b[0m\u001b[0;34m\u001b[0m\u001b[0m\n\u001b[1;32m    332\u001b[0m         \"\"\"\n\u001b[0;32m--> 333\u001b[0;31m         \u001b[0mself\u001b[0m\u001b[0;34m.\u001b[0m\u001b[0mexecute\u001b[0m\u001b[0;34m(\u001b[0m\u001b[0mCommand\u001b[0m\u001b[0;34m.\u001b[0m\u001b[0mGET\u001b[0m\u001b[0;34m,\u001b[0m \u001b[0;34m{\u001b[0m\u001b[0;34m'url'\u001b[0m\u001b[0;34m:\u001b[0m \u001b[0murl\u001b[0m\u001b[0;34m}\u001b[0m\u001b[0;34m)\u001b[0m\u001b[0;34m\u001b[0m\u001b[0;34m\u001b[0m\u001b[0m\n\u001b[0m\u001b[1;32m    334\u001b[0m \u001b[0;34m\u001b[0m\u001b[0m\n\u001b[1;32m    335\u001b[0m     \u001b[0;34m@\u001b[0m\u001b[0mproperty\u001b[0m\u001b[0;34m\u001b[0m\u001b[0;34m\u001b[0m\u001b[0m\n",
      "\u001b[0;32m~/anaconda3/lib/python3.7/site-packages/selenium/webdriver/remote/webdriver.py\u001b[0m in \u001b[0;36mexecute\u001b[0;34m(self, driver_command, params)\u001b[0m\n\u001b[1;32m    319\u001b[0m         \u001b[0mresponse\u001b[0m \u001b[0;34m=\u001b[0m \u001b[0mself\u001b[0m\u001b[0;34m.\u001b[0m\u001b[0mcommand_executor\u001b[0m\u001b[0;34m.\u001b[0m\u001b[0mexecute\u001b[0m\u001b[0;34m(\u001b[0m\u001b[0mdriver_command\u001b[0m\u001b[0;34m,\u001b[0m \u001b[0mparams\u001b[0m\u001b[0;34m)\u001b[0m\u001b[0;34m\u001b[0m\u001b[0;34m\u001b[0m\u001b[0m\n\u001b[1;32m    320\u001b[0m         \u001b[0;32mif\u001b[0m \u001b[0mresponse\u001b[0m\u001b[0;34m:\u001b[0m\u001b[0;34m\u001b[0m\u001b[0;34m\u001b[0m\u001b[0m\n\u001b[0;32m--> 321\u001b[0;31m             \u001b[0mself\u001b[0m\u001b[0;34m.\u001b[0m\u001b[0merror_handler\u001b[0m\u001b[0;34m.\u001b[0m\u001b[0mcheck_response\u001b[0m\u001b[0;34m(\u001b[0m\u001b[0mresponse\u001b[0m\u001b[0;34m)\u001b[0m\u001b[0;34m\u001b[0m\u001b[0;34m\u001b[0m\u001b[0m\n\u001b[0m\u001b[1;32m    322\u001b[0m             response['value'] = self._unwrap_value(\n\u001b[1;32m    323\u001b[0m                 response.get('value', None))\n",
      "\u001b[0;32m~/anaconda3/lib/python3.7/site-packages/selenium/webdriver/remote/errorhandler.py\u001b[0m in \u001b[0;36mcheck_response\u001b[0;34m(self, response)\u001b[0m\n\u001b[1;32m    240\u001b[0m                 \u001b[0malert_text\u001b[0m \u001b[0;34m=\u001b[0m \u001b[0mvalue\u001b[0m\u001b[0;34m[\u001b[0m\u001b[0;34m'alert'\u001b[0m\u001b[0;34m]\u001b[0m\u001b[0;34m.\u001b[0m\u001b[0mget\u001b[0m\u001b[0;34m(\u001b[0m\u001b[0;34m'text'\u001b[0m\u001b[0;34m)\u001b[0m\u001b[0;34m\u001b[0m\u001b[0;34m\u001b[0m\u001b[0m\n\u001b[1;32m    241\u001b[0m             \u001b[0;32mraise\u001b[0m \u001b[0mexception_class\u001b[0m\u001b[0;34m(\u001b[0m\u001b[0mmessage\u001b[0m\u001b[0;34m,\u001b[0m \u001b[0mscreen\u001b[0m\u001b[0;34m,\u001b[0m \u001b[0mstacktrace\u001b[0m\u001b[0;34m,\u001b[0m \u001b[0malert_text\u001b[0m\u001b[0;34m)\u001b[0m\u001b[0;34m\u001b[0m\u001b[0;34m\u001b[0m\u001b[0m\n\u001b[0;32m--> 242\u001b[0;31m         \u001b[0;32mraise\u001b[0m \u001b[0mexception_class\u001b[0m\u001b[0;34m(\u001b[0m\u001b[0mmessage\u001b[0m\u001b[0;34m,\u001b[0m \u001b[0mscreen\u001b[0m\u001b[0;34m,\u001b[0m \u001b[0mstacktrace\u001b[0m\u001b[0;34m)\u001b[0m\u001b[0;34m\u001b[0m\u001b[0;34m\u001b[0m\u001b[0m\n\u001b[0m\u001b[1;32m    243\u001b[0m \u001b[0;34m\u001b[0m\u001b[0m\n\u001b[1;32m    244\u001b[0m     \u001b[0;32mdef\u001b[0m \u001b[0m_value_or_default\u001b[0m\u001b[0;34m(\u001b[0m\u001b[0mself\u001b[0m\u001b[0;34m,\u001b[0m \u001b[0mobj\u001b[0m\u001b[0;34m,\u001b[0m \u001b[0mkey\u001b[0m\u001b[0;34m,\u001b[0m \u001b[0mdefault\u001b[0m\u001b[0;34m)\u001b[0m\u001b[0;34m:\u001b[0m\u001b[0;34m\u001b[0m\u001b[0;34m\u001b[0m\u001b[0m\n",
      "\u001b[0;31mTimeoutException\u001b[0m: Message: Timeout loading page after 300000ms\n"
     ]
    }
   ],
   "source": [
    "options = Options()\n",
    "options.add_argument('-headless')\n",
    "driver = Firefox(executable_path='/opt/firefox/geckodriver', options=options)\n",
    "\n",
    "wait = WebDriverWait(driver, timeout=10)\n",
    "scrape_jobs('software', wait, urls, start=1)\n",
    "driver.quit()"
   ]
  },
  {
   "cell_type": "markdown",
   "metadata": {},
   "source": [
    "## CSV to pandas DataFrame\n",
    "Download the csv [here](https://drive.google.com/file/d/1IPqyHeLukbMcabIBlejGucthB21lQT8j/view)"
   ]
  },
  {
   "cell_type": "code",
   "execution_count": 21,
   "metadata": {},
   "outputs": [
    {
     "data": {
      "text/html": [
       "<div>\n",
       "<style scoped>\n",
       "    .dataframe tbody tr th:only-of-type {\n",
       "        vertical-align: middle;\n",
       "    }\n",
       "\n",
       "    .dataframe tbody tr th {\n",
       "        vertical-align: top;\n",
       "    }\n",
       "\n",
       "    .dataframe thead th {\n",
       "        text-align: right;\n",
       "    }\n",
       "</style>\n",
       "<table border=\"1\" class=\"dataframe\">\n",
       "  <thead>\n",
       "    <tr style=\"text-align: right;\">\n",
       "      <th></th>\n",
       "      <th>title</th>\n",
       "      <th>loc</th>\n",
       "      <th>minimum_qual</th>\n",
       "      <th>preferred_qual</th>\n",
       "      <th>resp</th>\n",
       "    </tr>\n",
       "  </thead>\n",
       "  <tbody>\n",
       "    <tr>\n",
       "      <th>0</th>\n",
       "      <td>Front End Software Engineer</td>\n",
       "      <td>Pittsburgh, PA, USA</td>\n",
       "      <td>BA/BS degree or equivalent practical experienc...</td>\n",
       "      <td>4 years of relevant work experience, including...</td>\n",
       "      <td>Build next-generation web applications with a ...</td>\n",
       "    </tr>\n",
       "    <tr>\n",
       "      <th>1</th>\n",
       "      <td>Software Engineer, HTML5 Video, Google Cloud P...</td>\n",
       "      <td>Sunnyvale, CA, USA</td>\n",
       "      <td>BS degree in Electrical Engineering or Compute...</td>\n",
       "      <td>MS degree in Electrical Engineering or Compute...</td>\n",
       "      <td>Design, implement and launch complex HTML5 vid...</td>\n",
       "    </tr>\n",
       "    <tr>\n",
       "      <th>2</th>\n",
       "      <td>Front End Software Engineer, YouTube</td>\n",
       "      <td>San Bruno, CA, USA</td>\n",
       "      <td>BA/BS in Computer Science or related technical...</td>\n",
       "      <td>Experience with one or more general purpose pr...</td>\n",
       "      <td>Design, implement and launch highly-visible, p...</td>\n",
       "    </tr>\n",
       "    <tr>\n",
       "      <th>3</th>\n",
       "      <td>Software Engineer, Google Home</td>\n",
       "      <td>Shanghai, China</td>\n",
       "      <td>Bachelor's degree in Computer Science, Electri...</td>\n",
       "      <td>Experience working with hardware designers/rea...</td>\n",
       "      <td>Develop the whole software stack for consumer ...</td>\n",
       "    </tr>\n",
       "    <tr>\n",
       "      <th>4</th>\n",
       "      <td>Software Engineer, Front End Development</td>\n",
       "      <td>Singapore</td>\n",
       "      <td>Bachelor's degree in a technical field, or equ...</td>\n",
       "      <td>Development experience in designing modular, o...</td>\n",
       "      <td>Build next-generation web applications with a ...</td>\n",
       "    </tr>\n",
       "    <tr>\n",
       "      <th>5</th>\n",
       "      <td>Wireless Software Engineer, Google Home</td>\n",
       "      <td>Taipei, Taiwan</td>\n",
       "      <td>Master's degree in Electrical Engineering or C...</td>\n",
       "      <td>PhD degree.\\nExperience with wireless protocol...</td>\n",
       "      <td>Participate in architecting, developing, testi...</td>\n",
       "    </tr>\n",
       "    <tr>\n",
       "      <th>6</th>\n",
       "      <td>Network Engineer, Software and Automation</td>\n",
       "      <td>Sydney NSW, Australia</td>\n",
       "      <td>BA/BS in Computer Science or related field or ...</td>\n",
       "      <td>Master's degree or PhD in Computer Science or ...</td>\n",
       "      <td>Engage in and improve the lifecycle of service...</td>\n",
       "    </tr>\n",
       "    <tr>\n",
       "      <th>7</th>\n",
       "      <td>Software Engineer, Cloud SQL</td>\n",
       "      <td>Sunnyvale, CA, USA</td>\n",
       "      <td>BS degree in Computer Science, similar technic...</td>\n",
       "      <td>10 years of relevant work experience in softwa...</td>\n",
       "      <td>Work alongside the Technical Lead to drive lon...</td>\n",
       "    </tr>\n",
       "    <tr>\n",
       "      <th>8</th>\n",
       "      <td>Software Engineer, Infrastructure (English)</td>\n",
       "      <td>Tel Aviv-Yafo, Israel</td>\n",
       "      <td>Bachelor's degree in Computer Science, a relat...</td>\n",
       "      <td>Master’s degree.\\nExperience with Unix/Linux o...</td>\n",
       "      <td>Design, develop, test, deploy, maintain and im...</td>\n",
       "    </tr>\n",
       "    <tr>\n",
       "      <th>9</th>\n",
       "      <td>Software Engineer</td>\n",
       "      <td>Seoul, South Korea</td>\n",
       "      <td>Bachelor's degree in Computer Science, similar...</td>\n",
       "      <td>Master’s degree or PhD in Engineering, Compute...</td>\n",
       "      <td>Design, develop, test, deploy, maintain and im...</td>\n",
       "    </tr>\n",
       "  </tbody>\n",
       "</table>\n",
       "</div>"
      ],
      "text/plain": [
       "                                               title                    loc  \\\n",
       "0                        Front End Software Engineer    Pittsburgh, PA, USA   \n",
       "1  Software Engineer, HTML5 Video, Google Cloud P...     Sunnyvale, CA, USA   \n",
       "2               Front End Software Engineer, YouTube     San Bruno, CA, USA   \n",
       "3                     Software Engineer, Google Home        Shanghai, China   \n",
       "4           Software Engineer, Front End Development              Singapore   \n",
       "5            Wireless Software Engineer, Google Home         Taipei, Taiwan   \n",
       "6          Network Engineer, Software and Automation  Sydney NSW, Australia   \n",
       "7                       Software Engineer, Cloud SQL     Sunnyvale, CA, USA   \n",
       "8        Software Engineer, Infrastructure (English)  Tel Aviv-Yafo, Israel   \n",
       "9                                  Software Engineer     Seoul, South Korea   \n",
       "\n",
       "                                        minimum_qual  \\\n",
       "0  BA/BS degree or equivalent practical experienc...   \n",
       "1  BS degree in Electrical Engineering or Compute...   \n",
       "2  BA/BS in Computer Science or related technical...   \n",
       "3  Bachelor's degree in Computer Science, Electri...   \n",
       "4  Bachelor's degree in a technical field, or equ...   \n",
       "5  Master's degree in Electrical Engineering or C...   \n",
       "6  BA/BS in Computer Science or related field or ...   \n",
       "7  BS degree in Computer Science, similar technic...   \n",
       "8  Bachelor's degree in Computer Science, a relat...   \n",
       "9  Bachelor's degree in Computer Science, similar...   \n",
       "\n",
       "                                      preferred_qual  \\\n",
       "0  4 years of relevant work experience, including...   \n",
       "1  MS degree in Electrical Engineering or Compute...   \n",
       "2  Experience with one or more general purpose pr...   \n",
       "3  Experience working with hardware designers/rea...   \n",
       "4  Development experience in designing modular, o...   \n",
       "5  PhD degree.\\nExperience with wireless protocol...   \n",
       "6  Master's degree or PhD in Computer Science or ...   \n",
       "7  10 years of relevant work experience in softwa...   \n",
       "8  Master’s degree.\\nExperience with Unix/Linux o...   \n",
       "9  Master’s degree or PhD in Engineering, Compute...   \n",
       "\n",
       "                                                resp  \n",
       "0  Build next-generation web applications with a ...  \n",
       "1  Design, implement and launch complex HTML5 vid...  \n",
       "2  Design, implement and launch highly-visible, p...  \n",
       "3  Develop the whole software stack for consumer ...  \n",
       "4  Build next-generation web applications with a ...  \n",
       "5  Participate in architecting, developing, testi...  \n",
       "6  Engage in and improve the lifecycle of service...  \n",
       "7  Work alongside the Technical Lead to drive lon...  \n",
       "8  Design, develop, test, deploy, maintain and im...  \n",
       "9  Design, develop, test, deploy, maintain and im...  "
      ]
     },
     "execution_count": 21,
     "metadata": {},
     "output_type": "execute_result"
    }
   ],
   "source": [
    "dat = pandas.read_csv('google_jobs.csv')\n",
    "dat.head(10)"
   ]
  },
  {
   "cell_type": "code",
   "execution_count": null,
   "metadata": {},
   "outputs": [],
   "source": []
  }
 ],
 "metadata": {
  "kernelspec": {
   "display_name": "Python 3",
   "language": "python",
   "name": "python3"
  },
  "language_info": {
   "codemirror_mode": {
    "name": "ipython",
    "version": 3
   },
   "file_extension": ".py",
   "mimetype": "text/x-python",
   "name": "python",
   "nbconvert_exporter": "python",
   "pygments_lexer": "ipython3",
   "version": "3.7.4"
  }
 },
 "nbformat": 4,
 "nbformat_minor": 2
}
